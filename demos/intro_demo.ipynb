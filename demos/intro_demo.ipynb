{
 "cells": [
  {
   "cell_type": "code",
   "execution_count": 1,
   "id": "e90c84a3-2e69-431c-b8e9-8e0e81e8dada",
   "metadata": {},
   "outputs": [],
   "source": [
    "from tinysig.utils import verify_ecdsa_signature, verify_dsa_signature\n",
    "from tinysig.setup import DSASetup, ECDSASetup\n",
    "from tinysig.tecdsa import ThresholdSignature"
   ]
  },
  {
   "cell_type": "markdown",
   "id": "4216cd42-980d-4394-914e-2c627830da3e",
   "metadata": {},
   "source": [
    "# Setup network\n",
    "\n",
    "Depending on the signature type we are aiming at (DSA or ECDSA), we can start the network with the class corresponding to that type. Let us see an example with 3 nodes and 1 client."
   ]
  },
  {
   "cell_type": "code",
   "execution_count": 2,
   "id": "52183e54-5528-429b-b575-4534e409fb8a",
   "metadata": {},
   "outputs": [],
   "source": [
    "N = 3; C = 1"
   ]
  },
  {
   "cell_type": "markdown",
   "id": "1ecf3376-ca1b-4636-b9fd-bc5a1e98e88d",
   "metadata": {},
   "source": [
    "### DSA\n",
    "\n",
    "To start a DSA signature, we use the class DSASetup. There are two options here:\n",
    "1. Generate the DSA setup from scratch; \n",
    "2. Use a DSA setup from predefined variables."
   ]
  },
  {
   "cell_type": "markdown",
   "id": "3b131b8a-ac50-4c31-a919-df9da22df805",
   "metadata": {},
   "source": [
    "The first option takes longer as the `generate_dsa_setup()` function has to find a primitive root for the `q` prime of the DSA setup."
   ]
  },
  {
   "cell_type": "code",
   "execution_count": null,
   "id": "78fb7116-1b22-4b9a-8e30-632e294bfdfe",
   "metadata": {},
   "outputs": [],
   "source": [
    "# Option 1\n",
    "fnil = ThresholdSignature(N, C)"
   ]
  },
  {
   "cell_type": "code",
   "execution_count": 3,
   "id": "4ae4685f-14df-4ffc-94a4-a9ad84a2b9ed",
   "metadata": {},
   "outputs": [],
   "source": [
    "# Option 2\n",
    "p = 16987220163402883416449356930313946536948708368250187300904484990592060034399925373558684845589122357155245527725130833676269318205326149268410610561367974110319706088695097181729621805806503895242356834473026604015120592348890617701675387428807728090415853765634415325555621648235338466349957683063948139664640253794461972428009207212678775162641560258829400418398089166048123240989061901894801714545511227607162820358567023001939860545346903340718565981921863209491363679301897076211852920953764568258713784702534591771430944194446014721504677270780731006777716425745362753111142293413901721847152726957943402872047 \n",
    "q = 18615201011907374064080708325380633467600489307695820739772219003499; \n",
    "g = 1440750739647392583923353319762863205412412735463771135600354281498545556560554285032144083567469348458038821471561505478727536048946568600306333026876282227253717145726280535747755789389298351217147981114134445522434273687560094566805116079958307881112688486903459951003823567315217837479260063662350297462681218852749673559083125704211468000331391500202590446254295826681166987302499736009857926325072657165790463352645906484288271010829609728496608136458748019477999277575560554800692468233144862681997749241093911491601564874805253852956797072221469937174346581408575685518457073416604892562933677029344283366064\n",
    "h = 2\n",
    "dsa_setup = DSASetup(p, q, g, h)\n",
    "fnil = ThresholdSignature(N, C, setup=dsa_setup)"
   ]
  },
  {
   "cell_type": "markdown",
   "id": "de9793bd-487e-4448-9389-a917d703bf35",
   "metadata": {},
   "source": [
    "**Debug mode**: the network can be set to debug mode to keep all elements sent and received throughout protocol execution."
   ]
  },
  {
   "cell_type": "code",
   "execution_count": 4,
   "id": "90175b45-5a1e-4159-8b87-dd1f27921ab6",
   "metadata": {},
   "outputs": [],
   "source": [
    "fnil_debug = ThresholdSignature(N, C, setup=dsa_setup, debug=True)"
   ]
  },
  {
   "cell_type": "markdown",
   "id": "9adfe856-753d-4161-8314-0ef766815d5b",
   "metadata": {},
   "source": [
    "### ECDSA\n",
    "\n",
    "For ECDSA version, the can use a set of curves:"
   ]
  },
  {
   "cell_type": "code",
   "execution_count": 5,
   "id": "ca26a74a-e5d5-4c6d-99ca-3044140797b2",
   "metadata": {},
   "outputs": [
    {
     "data": {
      "text/plain": [
       "['P-192', 'P-224', 'P-256', 'P-384', 'P-521']"
      ]
     },
     "execution_count": 5,
     "metadata": {},
     "output_type": "execute_result"
    }
   ],
   "source": [
    "ECDSASetup.supported_curves()"
   ]
  },
  {
   "cell_type": "code",
   "execution_count": 6,
   "id": "cb2ea243-53c8-46cf-8e5a-b8a738aa9892",
   "metadata": {},
   "outputs": [],
   "source": [
    "ecdsa_setup = ECDSASetup(curve=\"P-256\")\n",
    "ecnil = ThresholdSignature(N, C, setup=ecdsa_setup)"
   ]
  },
  {
   "cell_type": "markdown",
   "id": "06c6493c-bf6c-4747-b643-09706fadf683",
   "metadata": {},
   "source": [
    "**Debug mode**"
   ]
  },
  {
   "cell_type": "code",
   "execution_count": 7,
   "id": "b772c05b-b000-497e-b48b-014803379e04",
   "metadata": {},
   "outputs": [],
   "source": [
    "ecnil_debug = ThresholdSignature(N, C, setup=ecdsa_setup, debug=True)"
   ]
  },
  {
   "cell_type": "markdown",
   "id": "41265ae9-4c9e-4b88-bc1e-d9a7b774ff0a",
   "metadata": {},
   "source": [
    "# Threshold (EC)DSA \n",
    "\n",
    "In the following demo, we emulate a network. For this reason, communication is given as a simple API and the client in the network request the network to sign some message by introducing its `id`."
   ]
  },
  {
   "cell_type": "code",
   "execution_count": 8,
   "id": "90adde68-4233-4bfd-b0f9-3bbbcf7d28e9",
   "metadata": {},
   "outputs": [],
   "source": [
    "client_id = 1"
   ]
  },
  {
   "cell_type": "markdown",
   "id": "f693c33b-bd81-4b02-a4f7-dca265c3afa5",
   "metadata": {},
   "source": [
    "## DSA\n",
    "\n",
    "We start by generating the secret key shared throughout the nodes. This only has to be done once."
   ]
  },
  {
   "cell_type": "code",
   "execution_count": 9,
   "id": "0b287f5d-3077-4a05-9d68-7cb36a0f21d0",
   "metadata": {},
   "outputs": [],
   "source": [
    "# DKG protocol for DSA\n",
    "fnil.distributed_key_generation_protocol(client_id)"
   ]
  },
  {
   "cell_type": "markdown",
   "id": "9fa5cbcd-8b4a-4cb9-9304-953ab2b7d512",
   "metadata": {},
   "source": [
    "Now, the client can ask the network to sign a message at their will without the network knowing the message."
   ]
  },
  {
   "cell_type": "markdown",
   "id": "536f666b-adb9-4594-82cd-ae932af4a010",
   "metadata": {},
   "source": [
    "We can start the preprocessing phase before the message is defined."
   ]
  },
  {
   "cell_type": "code",
   "execution_count": 10,
   "id": "19150989-644e-4b86-9622-9c31fc1fa236",
   "metadata": {},
   "outputs": [],
   "source": [
    "# Preprocessing phase (message independent)\n",
    "fnil.ts_prep_protocol(client_id)"
   ]
  },
  {
   "cell_type": "code",
   "execution_count": 11,
   "id": "80bcd373-6945-4100-ab78-b565d1a1e35f",
   "metadata": {},
   "outputs": [],
   "source": [
    "message = \"Let me tell you a secret about Nillion.\""
   ]
  },
  {
   "cell_type": "code",
   "execution_count": 12,
   "id": "b2783d72-351e-4258-a7bb-407b23c01529",
   "metadata": {},
   "outputs": [],
   "source": [
    "# Online phase (message dependent)\n",
    "fnil.ts_online_protocol(message, client_id)"
   ]
  },
  {
   "cell_type": "markdown",
   "id": "d3c2873d-d2b0-412c-b9f8-355d392c6981",
   "metadata": {},
   "source": [
    "We can run the above two cells as many times as we want without having to run the DKG protocol from above."
   ]
  },
  {
   "cell_type": "code",
   "execution_count": 13,
   "id": "4996c8e7-577e-4a9b-a045-f78729dba715",
   "metadata": {},
   "outputs": [
    {
     "name": "stdout",
     "output_type": "stream",
     "text": [
      "    Client(id=1,\n",
      "      r=866456810140799270992901093853994083574513660692530393694283169735,\n",
      "      s=17230127798322948297359259017038343422389044881055246558700591255771,\n",
      "      m=Let me tell you a secret about Nillion.,\n",
      "    )\n"
     ]
    }
   ],
   "source": [
    "fnil.print_signature(client_id)"
   ]
  },
  {
   "cell_type": "markdown",
   "id": "1a702ef7-e514-4b4a-9824-7ca44b502d39",
   "metadata": {},
   "source": [
    "#### Signature verification\n",
    "\n",
    "The protocol already has included a verification of the signature. However, we can also verify for ourselves:"
   ]
  },
  {
   "cell_type": "code",
   "execution_count": 14,
   "id": "cae841ea-ea6e-420d-891f-c34a6f8b55df",
   "metadata": {},
   "outputs": [],
   "source": [
    "# Signature\n",
    "r, s, m = fnil.retrieve_signature(client_id)\n",
    "# Public parameters (client's public key, dsa setup)\n",
    "y = fnil.clients[client_id - 1].get_open(str(client_id)+\"th_client_x_pk\")\n",
    "q = fnil.q\n",
    "p = fnil.dsa.p\n",
    "g = fnil.dsa.g\n",
    "# Verify\n",
    "verify_dsa_signature(message, r, s, y, p, q, g)"
   ]
  },
  {
   "cell_type": "markdown",
   "id": "31e99544-8d7e-45f9-a452-387eb54e882c",
   "metadata": {},
   "source": [
    "## ECDSA\n",
    "\n",
    "Everything works similarly to the ECDSA version. "
   ]
  },
  {
   "cell_type": "code",
   "execution_count": 15,
   "id": "03d48d0b-1b19-4e87-9423-e7ff35df7133",
   "metadata": {},
   "outputs": [],
   "source": [
    "# DKG protocol for ECDSA\n",
    "ecnil.distributed_key_generation_protocol(client_id)"
   ]
  },
  {
   "cell_type": "code",
   "execution_count": 16,
   "id": "8d206ddb-8670-49fa-aca0-1440b5d6f8f3",
   "metadata": {},
   "outputs": [],
   "source": [
    "# Preprocessing phase (message independent)\n",
    "ecnil.ts_prep_protocol(client_id)"
   ]
  },
  {
   "cell_type": "code",
   "execution_count": 17,
   "id": "23b19bd5-9ceb-46b0-a24c-ed5ec88bf005",
   "metadata": {},
   "outputs": [],
   "source": [
    "message = \"This is one of many releases we are going to have in the next few months.\""
   ]
  },
  {
   "cell_type": "code",
   "execution_count": 18,
   "id": "6330a904-5111-4d22-a8ce-e05cb709408e",
   "metadata": {},
   "outputs": [],
   "source": [
    "# Online phase (message dependent)\n",
    "ecnil.ts_online_protocol(message, client_id)"
   ]
  },
  {
   "cell_type": "code",
   "execution_count": 19,
   "id": "28cb83d7-a931-4818-bb27-1701fd6a5f1f",
   "metadata": {},
   "outputs": [],
   "source": [
    "# Signature\n",
    "r, s, m = ecnil.retrieve_signature(client_id)\n",
    "# Public parameters (client's public key, ecdsa setup)\n",
    "Y = ecnil.clients[client_id - 1].get_open(str(client_id)+\"th_client_x_pk\")\n",
    "q = ecnil.q\n",
    "G = ecnil.ecdsa.G\n",
    "# Verify\n",
    "verify_ecdsa_signature(message, r, s, Y, q, G)"
   ]
  },
  {
   "cell_type": "markdown",
   "id": "866f5b19-b238-4dc0-8b76-7679500e657f",
   "metadata": {},
   "source": [
    "Let us see a case where the signature is not valid for some message. We give it a different message."
   ]
  },
  {
   "cell_type": "code",
   "execution_count": 20,
   "id": "4f69041c-19b0-41d4-83ad-87f8118eda24",
   "metadata": {},
   "outputs": [
    {
     "ename": "VerifySignatureError",
     "evalue": "Signature verification failed. Signature mismatch. Abort.",
     "output_type": "error",
     "traceback": [
      "\u001b[0;31m---------------------------------------------------------------------------\u001b[0m",
      "\u001b[0;31mVerifySignatureError\u001b[0m                      Traceback (most recent call last)",
      "Cell \u001b[0;32mIn[20], line 9\u001b[0m\n\u001b[1;32m      7\u001b[0m G \u001b[38;5;241m=\u001b[39m ecnil\u001b[38;5;241m.\u001b[39mecdsa\u001b[38;5;241m.\u001b[39mG\n\u001b[1;32m      8\u001b[0m \u001b[38;5;66;03m# Verify\u001b[39;00m\n\u001b[0;32m----> 9\u001b[0m \u001b[43mverify_ecdsa_signature\u001b[49m\u001b[43m(\u001b[49m\u001b[43mother_message\u001b[49m\u001b[43m,\u001b[49m\u001b[43m \u001b[49m\u001b[43mr\u001b[49m\u001b[43m,\u001b[49m\u001b[43m \u001b[49m\u001b[43ms\u001b[49m\u001b[43m,\u001b[49m\u001b[43m \u001b[49m\u001b[43mY\u001b[49m\u001b[43m,\u001b[49m\u001b[43m \u001b[49m\u001b[43mq\u001b[49m\u001b[43m,\u001b[49m\u001b[43m \u001b[49m\u001b[43mG\u001b[49m\u001b[43m)\u001b[49m\n",
      "File \u001b[0;32m~/.pyenv/versions/3.10.10/envs/ecdsa/lib/python3.10/site-packages/tinysig/utils.py:190\u001b[0m, in \u001b[0;36mverify_ecdsa_signature\u001b[0;34m(message, r, s, Y, q, G)\u001b[0m\n\u001b[1;32m    188\u001b[0m v \u001b[38;5;241m=\u001b[39m \u001b[38;5;28mint\u001b[39m(V\u001b[38;5;241m.\u001b[39mx)\n\u001b[1;32m    189\u001b[0m \u001b[38;5;28;01mif\u001b[39;00m v \u001b[38;5;241m!=\u001b[39m r:\n\u001b[0;32m--> 190\u001b[0m     \u001b[38;5;28;01mraise\u001b[39;00m VerifySignatureError(\u001b[38;5;124m\"\u001b[39m\u001b[38;5;124mSignature mismatch. Abort.\u001b[39m\u001b[38;5;124m\"\u001b[39m)\n",
      "\u001b[0;31mVerifySignatureError\u001b[0m: Signature verification failed. Signature mismatch. Abort."
     ]
    }
   ],
   "source": [
    "other_message = \"So, are you ready for the Nillimania that is about to come?\"\n",
    "# Signature\n",
    "r, s, m = ecnil.retrieve_signature(client_id)\n",
    "# Public parameters (client's public key, ecdsa setup)\n",
    "Y = ecnil.clients[client_id - 1].get_open(str(client_id)+\"th_client_x_pk\")\n",
    "q = ecnil.q\n",
    "G = ecnil.ecdsa.G\n",
    "# Verify\n",
    "verify_ecdsa_signature(other_message, r, s, Y, q, G)"
   ]
  },
  {
   "cell_type": "markdown",
   "id": "8168b958-cb16-4d8a-a72e-0a734f41699d",
   "metadata": {},
   "source": [
    "### Debugging\n",
    "\n",
    "We can also take a closer look into the network, in case we want to explore more. For that, we have available the print() function, which shows the elements owned by each party."
   ]
  },
  {
   "cell_type": "code",
   "execution_count": 21,
   "id": "39569617-19f9-4427-9db9-0c56e4f772b8",
   "metadata": {},
   "outputs": [
    {
     "name": "stdout",
     "output_type": "stream",
     "text": [
      "Network(N=3, q=115792089210356248762697446949407573529996955224135760342422259061068512044369,\n",
      "  nodes=[\n",
      "    Node(id=1,\n",
      "      shares_db={\n",
      "        1th_client_x_enc_sh_exp: <phe.paillier.EncryptedNumber object at 0x7fb76ffa8d90>,\n",
      "        1th_client_lambda_1_enc_sh_base: <phe.paillier.EncryptedNumber object at 0x7fb76ffab7c0>,\n",
      "        1th_client_lambda_2_enc_sh_base: <phe.paillier.EncryptedNumber object at 0x7fb76ffab490>,\n",
      "             },\n",
      "      public_keys={\n",
      "        0: <PaillierPublicKey 13238cbba9>,\n",
      "             },\n",
      "      open_db={\n",
      "        1th_client_x_sk: 28366821186158931449365894762575778610930595231666123227518790537448233657765,\n",
      "        1th_client_x_pk: <Crypto.PublicKey.ECC.EccPoint object at 0x7fb7895ee380>,\n",
      "        1th_client_k_r: 57171912513127058861305913686040155518728941802280615925843447425966440139137,\n",
      "        1th_client_k_inv_sk: 8073490050704617529204062524429733350901213971996330479316418658370454712661,\n",
      "        1th_client_gap_particle_m: 106579965961397005283454587061856305910257559613153554636714343161318176254853,\n",
      "             }\n",
      "    )\n",
      "    Node(id=2,\n",
      "      shares_db={\n",
      "        1th_client_x_enc_sh_exp: <phe.paillier.EncryptedNumber object at 0x7fb76ffaad10>,\n",
      "        1th_client_lambda_1_enc_sh_base: <phe.paillier.EncryptedNumber object at 0x7fb76ffa8400>,\n",
      "        1th_client_lambda_2_enc_sh_base: <phe.paillier.EncryptedNumber object at 0x7fb76ffa8df0>,\n",
      "             },\n",
      "      public_keys={\n",
      "        0: <PaillierPublicKey 13238cbba9>,\n",
      "             },\n",
      "      open_db={\n",
      "        1th_client_x_sk: 28366821186158931449365894762575778610930595231666123227518790537448233657765,\n",
      "        1th_client_x_pk: <Crypto.PublicKey.ECC.EccPoint object at 0x7fb76ffa8ca0>,\n",
      "        1th_client_k_r: 57171912513127058861305913686040155518728941802280615925843447425966440139137,\n",
      "        1th_client_k_inv_sk: 8073490050704617529204062524429733350901213971996330479316418658370454712661,\n",
      "        1th_client_gap_particle_m: 106579965961397005283454587061856305910257559613153554636714343161318176254853,\n",
      "             }\n",
      "    )\n",
      "    Node(id=3,\n",
      "      shares_db={\n",
      "        1th_client_x_enc_sh_exp: <phe.paillier.EncryptedNumber object at 0x7fb76ffaad40>,\n",
      "        1th_client_lambda_1_enc_sh_base: <phe.paillier.EncryptedNumber object at 0x7fb76ffaae30>,\n",
      "        1th_client_lambda_2_enc_sh_base: <phe.paillier.EncryptedNumber object at 0x7fb76ffa9b70>,\n",
      "             },\n",
      "      public_keys={\n",
      "        0: <PaillierPublicKey 13238cbba9>,\n",
      "             },\n",
      "      open_db={\n",
      "        1th_client_x_sk: 28366821186158931449365894762575778610930595231666123227518790537448233657765,\n",
      "        1th_client_x_pk: <Crypto.PublicKey.ECC.EccPoint object at 0x7fb76ffaa680>,\n",
      "        1th_client_k_r: 57171912513127058861305913686040155518728941802280615925843447425966440139137,\n",
      "        1th_client_k_inv_sk: 8073490050704617529204062524429733350901213971996330479316418658370454712661,\n",
      "        1th_client_gap_particle_m: 106579965961397005283454587061856305910257559613153554636714343161318176254853,\n",
      "             }\n",
      "    )\n",
      "  ]\n",
      ")\n",
      "  clients=[\n",
      "    Client(id=1,\n",
      "      shares_db={\n",
      "        gap_lambda_exp: 78480600859901013658977298041246219230152361570082221929571955851195324294816,\n",
      "        m_lambda_exp: 114912707192229153265222546030179129497023690142525895211846450187987474696967,\n",
      "        1th_client_enc_signature_sh_base_node_1: <phe.paillier.EncryptedNumber object at 0x7fb76ffa8280>,\n",
      "        1th_client_enc_signature_sh_base_node_2: <phe.paillier.EncryptedNumber object at 0x7fb76ffa9000>,\n",
      "        1th_client_enc_signature_sh_base_node_3: <phe.paillier.EncryptedNumber object at 0x7fb76ffa91b0>,\n",
      "             },\n",
      "      public_keys={\n",
      "        0: <PaillierPublicKey 13238cbba9>,\n",
      "             },\n",
      "      private_keys=<PaillierPrivateKey for <PaillierPublicKey 13238cbba9>>,\n",
      "      open_db={\n",
      "        1th_client_x_pk: <Crypto.PublicKey.ECC.EccPoint object at 0x7fb7895ee380>,\n",
      "        1th_client_k_r: 57171912513127058861305913686040155518728941802280615925843447425966440139137,\n",
      "        1th_client_s: 92042169691787731500333922131011982711433537751444369619584811954794492387646,\n",
      "        1th_client_message: This is one of many releases we are going to have in the next few months.,\n",
      "             }\n",
      "    )\n",
      "  ]\n",
      ")\n"
     ]
    }
   ],
   "source": [
    "ecnil.print()"
   ]
  },
  {
   "cell_type": "markdown",
   "id": "cc9c6ed7-040e-4f88-91c3-32ea4a26a107",
   "metadata": {},
   "source": [
    "In debug mode, we have access to all elements:"
   ]
  },
  {
   "cell_type": "code",
   "execution_count": 22,
   "id": "29dcc5c5-2263-414f-a69e-07d492b62695",
   "metadata": {},
   "outputs": [],
   "source": [
    "# DKG protocol for ECDSA\n",
    "ecnil_debug.distributed_key_generation_protocol(client_id)"
   ]
  },
  {
   "cell_type": "code",
   "execution_count": 23,
   "id": "c87dc2a5-ac98-4160-81cf-fcc64df10b49",
   "metadata": {},
   "outputs": [],
   "source": [
    "# Preprocessing phase (message independent)\n",
    "ecnil_debug.ts_prep_protocol(client_id)"
   ]
  },
  {
   "cell_type": "code",
   "execution_count": 24,
   "id": "1277a72f-8618-4e53-809f-1ee1f108df19",
   "metadata": {},
   "outputs": [],
   "source": [
    "message = \"Stay tunned. Join the Telegram chat. Join the Discord channel. Be happy.\""
   ]
  },
  {
   "cell_type": "code",
   "execution_count": 25,
   "id": "9c52fc18-1be2-424a-af1e-9cb8a2548e7a",
   "metadata": {},
   "outputs": [],
   "source": [
    "# Online phase (message dependent)\n",
    "ecnil_debug.ts_online_protocol(message, client_id)"
   ]
  },
  {
   "cell_type": "code",
   "execution_count": 26,
   "id": "b6c23905-4bcf-47ef-b707-431900d818de",
   "metadata": {},
   "outputs": [
    {
     "name": "stdout",
     "output_type": "stream",
     "text": [
      "Network(N=3, q=115792089210356248762697446949407573529996955224135760342422259061068512044369,\n",
      "  nodes=[\n",
      "    Node(id=1,\n",
      "      shares_db={\n",
      "        randomsh_node_1: 29627232355725091013240817289865842167963979835036529475876283255307412359686,\n",
      "        randomsh_node_2: 25963599236838826166953673698485233994041097844090884826392497191055486845126,\n",
      "        randomsh_node_3: 5085385825717084993488103744108010930455719344509659269077663467598091870118,\n",
      "        random_minus_1th_client_x_sh_exp: 104102972143424312637592319339960633531467443508956898548018721560739758910052,\n",
      "        1th_client_x_enc_sh_exp: <phe.paillier.EncryptedNumber object at 0x7fb76fe27b20>,\n",
      "        1th_client_lambda_1_enc_sh_base: <phe.paillier.EncryptedNumber object at 0x7fb76fe26ec0>,\n",
      "        1th_client_lambda_2_enc_sh_base: <phe.paillier.EncryptedNumber object at 0x7fb76fe26fb0>,\n",
      "             },\n",
      "      public_keys={\n",
      "        0: <PaillierPublicKey 6251130f04>,\n",
      "             },\n",
      "      open_db={\n",
      "        pow_share_node_1: 77585459698290511619005581560983933643482531684361384405850574333446729581121,\n",
      "        pow_share_node_2: 101170248072912801351305038035809645741125059248060226800088651742369495341193,\n",
      "        pow_share_node_3: 29638726145587148445851518207237880426392353141993386953028445324801784688348,\n",
      "        1th_client_x_sk: 93617153115056104555293226862786799656560420200542199530470755445485628767811,\n",
      "        ec_pow_share_node_1: <Crypto.PublicKey.ECC.EccPoint object at 0x7fb76fe26d10>,\n",
      "        ec_pow_share_node_2: <Crypto.PublicKey.ECC.EccPoint object at 0x7fb76fd497e0>,\n",
      "        ec_pow_share_node_3: <Crypto.PublicKey.ECC.EccPoint object at 0x7fb76fe4fee0>,\n",
      "        1th_client_x_pre_pk: <Crypto.PublicKey.ECC.EccPoint object at 0x7fb76fe27c40>,\n",
      "        1th_client_x_pk: <Crypto.PublicKey.ECC.EccPoint object at 0x7fb76fe27fa0>,\n",
      "        1th_client_k_sk: 73120756094594951066353272382782475815440099440127161796865621427483707130128,\n",
      "        1th_client_k_r: 103282898328945964813915082336989977450474770613981052602078378837302399497399,\n",
      "        1th_client_k_inv_sk: 23363410526937945844982742486249051082268605006910294362766598752158597335879,\n",
      "        1th_client_gap_particle_m: 28184468823471858655666031129961895000551310994776069004306812339344684524140,\n",
      "             }\n",
      "    )\n",
      "    Node(id=2,\n",
      "      shares_db={\n",
      "        randomsh_node_1: 45025512887139467219637953762932119848907940969897063212583108250102595505289,\n",
      "        randomsh_node_2: 17822889700333326442607337121277267050028888070229418523978276217489410148502,\n",
      "        randomsh_node_3: 88114287146652674684842859158045476745526523375406662758498562324354068723128,\n",
      "        random_minus_1th_client_x_sh_exp: 52721409119209839595237348673705191710742408784963187712638462330064998595094,\n",
      "        1th_client_x_enc_sh_exp: <phe.paillier.EncryptedNumber object at 0x7fb76fe27a00>,\n",
      "        1th_client_lambda_1_enc_sh_base: <phe.paillier.EncryptedNumber object at 0x7fb76fe26da0>,\n",
      "        1th_client_lambda_2_enc_sh_base: <phe.paillier.EncryptedNumber object at 0x7fb76fe27cd0>,\n",
      "             },\n",
      "      public_keys={\n",
      "        0: <PaillierPublicKey 6251130f04>,\n",
      "             },\n",
      "      open_db={\n",
      "        pow_share_node_1: 77585459698290511619005581560983933643482531684361384405850574333446729581121,\n",
      "        pow_share_node_2: 101170248072912801351305038035809645741125059248060226800088651742369495341193,\n",
      "        pow_share_node_3: 29638726145587148445851518207237880426392353141993386953028445324801784688348,\n",
      "        1th_client_x_sk: 93617153115056104555293226862786799656560420200542199530470755445485628767811,\n",
      "        ec_pow_share_node_1: <Crypto.PublicKey.ECC.EccPoint object at 0x7fb76fe26d10>,\n",
      "        ec_pow_share_node_2: <Crypto.PublicKey.ECC.EccPoint object at 0x7fb76fd497e0>,\n",
      "        ec_pow_share_node_3: <Crypto.PublicKey.ECC.EccPoint object at 0x7fb76fe4fee0>,\n",
      "        1th_client_x_pre_pk: <Crypto.PublicKey.ECC.EccPoint object at 0x7fb76fe27a90>,\n",
      "        1th_client_x_pk: <Crypto.PublicKey.ECC.EccPoint object at 0x7fb76fe27d60>,\n",
      "        1th_client_k_sk: 73120756094594951066353272382782475815440099440127161796865621427483707130128,\n",
      "        1th_client_k_r: 103282898328945964813915082336989977450474770613981052602078378837302399497399,\n",
      "        1th_client_k_inv_sk: 23363410526937945844982742486249051082268605006910294362766598752158597335879,\n",
      "        1th_client_gap_particle_m: 28184468823471858655666031129961895000551310994776069004306812339344684524140,\n",
      "             }\n",
      "    )\n",
      "    Node(id=3,\n",
      "      shares_db={\n",
      "        randomsh_node_1: 11002458067623961891708012362705630845854089850274478403487421455626144153790,\n",
      "        randomsh_node_2: 85905062359468959738546139800876687133719954224100546087657978100707335060025,\n",
      "        randomsh_node_3: 80280527474464777048832861873582211493060656065772265219202101717863878170642,\n",
      "        random_minus_1th_client_x_sh_exp: 68820594591173525847168043888633453541228471884288345699675537773317943214174,\n",
      "        1th_client_x_enc_sh_exp: <phe.paillier.EncryptedNumber object at 0x7fb76fe276d0>,\n",
      "        1th_client_lambda_1_enc_sh_base: <phe.paillier.EncryptedNumber object at 0x7fb76fe27ca0>,\n",
      "        1th_client_lambda_2_enc_sh_base: <phe.paillier.EncryptedNumber object at 0x7fb76fe27eb0>,\n",
      "             },\n",
      "      public_keys={\n",
      "        0: <PaillierPublicKey 6251130f04>,\n",
      "             },\n",
      "      open_db={\n",
      "        pow_share_node_1: 77585459698290511619005581560983933643482531684361384405850574333446729581121,\n",
      "        pow_share_node_2: 101170248072912801351305038035809645741125059248060226800088651742369495341193,\n",
      "        pow_share_node_3: 29638726145587148445851518207237880426392353141993386953028445324801784688348,\n",
      "        1th_client_x_sk: 93617153115056104555293226862786799656560420200542199530470755445485628767811,\n",
      "        ec_pow_share_node_1: <Crypto.PublicKey.ECC.EccPoint object at 0x7fb76fe26d10>,\n",
      "        ec_pow_share_node_2: <Crypto.PublicKey.ECC.EccPoint object at 0x7fb76fd497e0>,\n",
      "        ec_pow_share_node_3: <Crypto.PublicKey.ECC.EccPoint object at 0x7fb76fe4fee0>,\n",
      "        1th_client_x_pre_pk: <Crypto.PublicKey.ECC.EccPoint object at 0x7fb76fe27820>,\n",
      "        1th_client_x_pk: <Crypto.PublicKey.ECC.EccPoint object at 0x7fb76fe27520>,\n",
      "        1th_client_k_sk: 73120756094594951066353272382782475815440099440127161796865621427483707130128,\n",
      "        1th_client_k_r: 103282898328945964813915082336989977450474770613981052602078378837302399497399,\n",
      "        1th_client_k_inv_sk: 23363410526937945844982742486249051082268605006910294362766598752158597335879,\n",
      "        1th_client_gap_particle_m: 28184468823471858655666031129961895000551310994776069004306812339344684524140,\n",
      "             }\n",
      "    )\n",
      "  ]\n",
      ")\n",
      "  clients=[\n",
      "    Client(id=1,\n",
      "      shares_db={\n",
      "        1th_client_gap_lambda_enc_sh_exp_node_1: <phe.paillier.EncryptedNumber object at 0x7fb76fe4fe80>,\n",
      "        1th_client_gap_lambda_enc_sh_exp_node_2: <phe.paillier.EncryptedNumber object at 0x7fb76fe28100>,\n",
      "        1th_client_gap_lambda_enc_sh_exp_node_3: <phe.paillier.EncryptedNumber object at 0x7fb76fe27ee0>,\n",
      "        1th_client_m_lambda_enc_sh_exp_node_1: <phe.paillier.EncryptedNumber object at 0x7fb76fe4fdc0>,\n",
      "        1th_client_m_lambda_enc_sh_exp_node_2: <phe.paillier.EncryptedNumber object at 0x7fb76fe27bb0>,\n",
      "        1th_client_m_lambda_enc_sh_exp_node_3: <phe.paillier.EncryptedNumber object at 0x7fb76fe27b50>,\n",
      "        gap_lambda_exp: 38525050769264943183414988907017306198319648651950028815882719172642913819527,\n",
      "        m_lambda_exp: 109320655523612717441723315123948469295660792864445628424954220295616298713073,\n",
      "        1th_client_enc_signature_sh_base_node_1: <phe.paillier.EncryptedNumber object at 0x7fb76fe27790>,\n",
      "        1th_client_enc_signature_sh_base_node_2: <phe.paillier.EncryptedNumber object at 0x7fb76fe27e80>,\n",
      "        1th_client_enc_signature_sh_base_node_3: <phe.paillier.EncryptedNumber object at 0x7fb76fe27d90>,\n",
      "             },\n",
      "      public_keys={\n",
      "        0: <PaillierPublicKey 6251130f04>,\n",
      "             },\n",
      "      private_keys=<PaillierPrivateKey for <PaillierPublicKey 6251130f04>>,\n",
      "      open_db={\n",
      "        1th_client_x_pk: <Crypto.PublicKey.ECC.EccPoint object at 0x7fb76fe27fa0>,\n",
      "        1th_client_k_r: 103282898328945964813915082336989977450474770613981052602078378837302399497399,\n",
      "        1th_client_s: 93165829290385224446235210611087967890935211267183012775935192826938233151942,\n",
      "        1th_client_message: Stay tunned. Join the Telegram chat. Join the Discord channel. Be happy.,\n",
      "             }\n",
      "    )\n",
      "  ]\n",
      ")\n"
     ]
    }
   ],
   "source": [
    "ecnil_debug.print()"
   ]
  },
  {
   "cell_type": "code",
   "execution_count": null,
   "id": "5b0a2d28-64fb-4f04-b339-a733b7996138",
   "metadata": {},
   "outputs": [],
   "source": []
  }
 ],
 "metadata": {
  "kernelspec": {
   "display_name": "Python 3 (ipykernel)",
   "language": "python",
   "name": "python3"
  },
  "language_info": {
   "codemirror_mode": {
    "name": "ipython",
    "version": 3
   },
   "file_extension": ".py",
   "mimetype": "text/x-python",
   "name": "python",
   "nbconvert_exporter": "python",
   "pygments_lexer": "ipython3",
   "version": "3.10.10"
  }
 },
 "nbformat": 4,
 "nbformat_minor": 5
}
