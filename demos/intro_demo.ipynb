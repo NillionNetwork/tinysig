{
 "cells": [
  {
   "cell_type": "code",
   "execution_count": 1,
   "id": "e90c84a3-2e69-431c-b8e9-8e0e81e8dada",
   "metadata": {},
   "outputs": [],
   "source": [
    "from tecdsa.utils import verify_ecdsa_signature, verify_dsa_signature\n",
    "from tecdsa.setup import DSASetup, ECDSASetup\n",
    "from tecdsa.tecdsa import ThresholdSignature"
   ]
  },
  {
   "cell_type": "markdown",
   "id": "4216cd42-980d-4394-914e-2c627830da3e",
   "metadata": {},
   "source": [
    "# Setup network\n",
    "\n",
    "Depending on the signature type we are aiming at (DSA or ECDSA), we can start the network with the class corresponding to that type. Let us see an example with 3 nodes and 1 client."
   ]
  },
  {
   "cell_type": "code",
   "execution_count": 2,
   "id": "52183e54-5528-429b-b575-4534e409fb8a",
   "metadata": {},
   "outputs": [],
   "source": [
    "N = 3; C = 1"
   ]
  },
  {
   "cell_type": "markdown",
   "id": "1ecf3376-ca1b-4636-b9fd-bc5a1e98e88d",
   "metadata": {},
   "source": [
    "### DSA\n",
    "\n",
    "To start a DSA signature, we use the class DSASetup. There are two options here:\n",
    "1. Generate the DSA setup from scratch; \n",
    "2. Use a DSA setup from predefined variables."
   ]
  },
  {
   "cell_type": "code",
   "execution_count": 3,
   "id": "ebd53f46-0823-43ac-8678-7a536e7a2131",
   "metadata": {},
   "outputs": [],
   "source": [
    "# Option 1\n",
    "fnil = ThresholdSignature(N, C)"
   ]
  },
  {
   "cell_type": "markdown",
   "id": "3b131b8a-ac50-4c31-a919-df9da22df805",
   "metadata": {},
   "source": [
    "This option takes longer as the `generate_dsa_setup()` function has to find a primitive root for the `q` prime of the DSA setup."
   ]
  },
  {
   "cell_type": "code",
   "execution_count": 3,
   "id": "4ae4685f-14df-4ffc-94a4-a9ad84a2b9ed",
   "metadata": {},
   "outputs": [],
   "source": [
    "# Option 2\n",
    "p = 16987220163402883416449356930313946536948708368250187300904484990592060034399925373558684845589122357155245527725130833676269318205326149268410610561367974110319706088695097181729621805806503895242356834473026604015120592348890617701675387428807728090415853765634415325555621648235338466349957683063948139664640253794461972428009207212678775162641560258829400418398089166048123240989061901894801714545511227607162820358567023001939860545346903340718565981921863209491363679301897076211852920953764568258713784702534591771430944194446014721504677270780731006777716425745362753111142293413901721847152726957943402872047 \n",
    "q = 18615201011907374064080708325380633467600489307695820739772219003499; \n",
    "g = 1440750739647392583923353319762863205412412735463771135600354281498545556560554285032144083567469348458038821471561505478727536048946568600306333026876282227253717145726280535747755789389298351217147981114134445522434273687560094566805116079958307881112688486903459951003823567315217837479260063662350297462681218852749673559083125704211468000331391500202590446254295826681166987302499736009857926325072657165790463352645906484288271010829609728496608136458748019477999277575560554800692468233144862681997749241093911491601564874805253852956797072221469937174346581408575685518457073416604892562933677029344283366064\n",
    "h = 2\n",
    "dsa_setup = DSASetup(p, q, g, h)\n",
    "fnil = ThresholdSignature(N, C, setup=dsa_setup)"
   ]
  },
  {
   "cell_type": "markdown",
   "id": "de9793bd-487e-4448-9389-a917d703bf35",
   "metadata": {},
   "source": [
    "**Debug mode**: the network can be set to debug mode to keep all elements sent and received throughout protocol execution."
   ]
  },
  {
   "cell_type": "code",
   "execution_count": 4,
   "id": "90175b45-5a1e-4159-8b87-dd1f27921ab6",
   "metadata": {},
   "outputs": [],
   "source": [
    "fnil_debug = ThresholdSignature(N, C, setup=dsa_setup, debug=True)"
   ]
  },
  {
   "cell_type": "markdown",
   "id": "9adfe856-753d-4161-8314-0ef766815d5b",
   "metadata": {},
   "source": [
    "### ECDSA\n",
    "\n",
    "For ECDSA version, the can use a set of curves:"
   ]
  },
  {
   "cell_type": "code",
   "execution_count": 5,
   "id": "ca26a74a-e5d5-4c6d-99ca-3044140797b2",
   "metadata": {},
   "outputs": [
    {
     "data": {
      "text/plain": [
       "['P-192', 'P-224', 'P-256', 'P-384', 'P-521']"
      ]
     },
     "execution_count": 5,
     "metadata": {},
     "output_type": "execute_result"
    }
   ],
   "source": [
    "ECDSASetup.supported_curves()"
   ]
  },
  {
   "cell_type": "code",
   "execution_count": 6,
   "id": "cb2ea243-53c8-46cf-8e5a-b8a738aa9892",
   "metadata": {},
   "outputs": [],
   "source": [
    "ecdsa_setup = ECDSASetup(curve=\"P-256\")\n",
    "ecnil = ThresholdSignature(N, C, setup=ecdsa_setup)"
   ]
  },
  {
   "cell_type": "markdown",
   "id": "06c6493c-bf6c-4747-b643-09706fadf683",
   "metadata": {},
   "source": [
    "**Debug mode**"
   ]
  },
  {
   "cell_type": "code",
   "execution_count": 7,
   "id": "b772c05b-b000-497e-b48b-014803379e04",
   "metadata": {},
   "outputs": [],
   "source": [
    "ecnil_debug = ThresholdSignature(N, C, setup=ecdsa_setup, debug=True)"
   ]
  },
  {
   "cell_type": "markdown",
   "id": "41265ae9-4c9e-4b88-bc1e-d9a7b774ff0a",
   "metadata": {},
   "source": [
    "# Threshold (EC)DSA \n",
    "\n",
    "In the following demo, we emulate a network. For this reason, communication is given as a simple API and the client in the network request the network to sign some message by introducing its `id`."
   ]
  },
  {
   "cell_type": "code",
   "execution_count": 8,
   "id": "90adde68-4233-4bfd-b0f9-3bbbcf7d28e9",
   "metadata": {},
   "outputs": [],
   "source": [
    "client_id = 1"
   ]
  },
  {
   "cell_type": "markdown",
   "id": "f693c33b-bd81-4b02-a4f7-dca265c3afa5",
   "metadata": {},
   "source": [
    "## DSA\n",
    "\n",
    "We start by generating the secret key shared throughout the nodes. This only has to be done once."
   ]
  },
  {
   "cell_type": "code",
   "execution_count": 9,
   "id": "0b287f5d-3077-4a05-9d68-7cb36a0f21d0",
   "metadata": {},
   "outputs": [],
   "source": [
    "# DKG protocol for DSA\n",
    "fnil.distributed_key_generation_protocol(client_id)"
   ]
  },
  {
   "cell_type": "markdown",
   "id": "9fa5cbcd-8b4a-4cb9-9304-953ab2b7d512",
   "metadata": {},
   "source": [
    "Now, the client can ask the network to sign a message at their will without the network knowing the message."
   ]
  },
  {
   "cell_type": "markdown",
   "id": "536f666b-adb9-4594-82cd-ae932af4a010",
   "metadata": {},
   "source": [
    "We can start the preprocessing phase before the message is defined."
   ]
  },
  {
   "cell_type": "code",
   "execution_count": 10,
   "id": "19150989-644e-4b86-9622-9c31fc1fa236",
   "metadata": {},
   "outputs": [],
   "source": [
    "# Preprocessing phase (message independent)\n",
    "fnil.ts_prep_protocol(client_id)"
   ]
  },
  {
   "cell_type": "code",
   "execution_count": 11,
   "id": "80bcd373-6945-4100-ab78-b565d1a1e35f",
   "metadata": {},
   "outputs": [],
   "source": [
    "message = \"Let me tell you a great secret about Nillion.\""
   ]
  },
  {
   "cell_type": "code",
   "execution_count": 12,
   "id": "b2783d72-351e-4258-a7bb-407b23c01529",
   "metadata": {},
   "outputs": [],
   "source": [
    "# Online phase (message dependent)\n",
    "fnil.ts_online_protocol(message, client_id)"
   ]
  },
  {
   "cell_type": "markdown",
   "id": "d3c2873d-d2b0-412c-b9f8-355d392c6981",
   "metadata": {},
   "source": [
    "We can run the above two cells as many times as we want without having to run the DKG protocol from above."
   ]
  },
  {
   "cell_type": "code",
   "execution_count": 13,
   "id": "4996c8e7-577e-4a9b-a045-f78729dba715",
   "metadata": {},
   "outputs": [
    {
     "name": "stdout",
     "output_type": "stream",
     "text": [
      "    Client(id=1,\n",
      "      r=6202005962638382719598591827040686943912736840956149356327459726601,\n",
      "      s=18131665991815852492200116613897714960534471085827748460942091666925,\n",
      "      m=Let me tell you a great secret about Nillion.,\n",
      "    )\n"
     ]
    }
   ],
   "source": [
    "fnil.print_signature(client_id)"
   ]
  },
  {
   "cell_type": "markdown",
   "id": "1a702ef7-e514-4b4a-9824-7ca44b502d39",
   "metadata": {},
   "source": [
    "#### Signature verification\n",
    "\n",
    "The protocol already has included a verification of the signature. However, we can also verify for ourselves:"
   ]
  },
  {
   "cell_type": "code",
   "execution_count": 17,
   "id": "cae841ea-ea6e-420d-891f-c34a6f8b55df",
   "metadata": {},
   "outputs": [],
   "source": [
    "# Signature\n",
    "r, s, m = fnil.retrieve_signature(client_id)\n",
    "# Public parameters (client's public key, dsa setup)\n",
    "y = fnil.clients[client_id - 1].get_open(str(client_id)+\"th_client_x_pk\")\n",
    "q = fnil.q\n",
    "p = fnil.dsa.p\n",
    "g = fnil.dsa.g\n",
    "# Verify\n",
    "verify_dsa_signature(message, r, s, y, p, q, g)"
   ]
  },
  {
   "cell_type": "markdown",
   "id": "31e99544-8d7e-45f9-a452-387eb54e882c",
   "metadata": {},
   "source": [
    "## ECDSA\n",
    "\n",
    "Everything works similarly to the ECDSA version. "
   ]
  },
  {
   "cell_type": "code",
   "execution_count": 23,
   "id": "03d48d0b-1b19-4e87-9423-e7ff35df7133",
   "metadata": {},
   "outputs": [],
   "source": [
    "# DKG protocol for ECDSA\n",
    "ecnil.distributed_key_generation_protocol(client_id)"
   ]
  },
  {
   "cell_type": "code",
   "execution_count": 24,
   "id": "8d206ddb-8670-49fa-aca0-1440b5d6f8f3",
   "metadata": {},
   "outputs": [],
   "source": [
    "# Preprocessing phase (message independent)\n",
    "ecnil.ts_prep_protocol(client_id)"
   ]
  },
  {
   "cell_type": "code",
   "execution_count": 25,
   "id": "23b19bd5-9ceb-46b0-a24c-ed5ec88bf005",
   "metadata": {},
   "outputs": [],
   "source": [
    "message = \"This is one of many releases we are going to have in the next few months.\""
   ]
  },
  {
   "cell_type": "code",
   "execution_count": 26,
   "id": "6330a904-5111-4d22-a8ce-e05cb709408e",
   "metadata": {},
   "outputs": [],
   "source": [
    "# Online phase (message dependent)\n",
    "ecnil.ts_online_protocol(message, client_id)"
   ]
  },
  {
   "cell_type": "code",
   "execution_count": 27,
   "id": "28cb83d7-a931-4818-bb27-1701fd6a5f1f",
   "metadata": {},
   "outputs": [],
   "source": [
    "# Signature\n",
    "r, s, m = ecnil.retrieve_signature(client_id)\n",
    "# Public parameters (client's public key, ecdsa setup)\n",
    "Y = ecnil.clients[client_id - 1].get_open(str(client_id)+\"th_client_x_pk\")\n",
    "q = ecnil.q\n",
    "G = ecnil.ecdsa.G\n",
    "# Verify\n",
    "verify_ecdsa_signature(message, r, s, Y, q, G)"
   ]
  },
  {
   "cell_type": "markdown",
   "id": "866f5b19-b238-4dc0-8b76-7679500e657f",
   "metadata": {},
   "source": [
    "Let us see a case where the signature is not valid for some message. We give it a different message."
   ]
  },
  {
   "cell_type": "code",
   "execution_count": 28,
   "id": "4f69041c-19b0-41d4-83ad-87f8118eda24",
   "metadata": {},
   "outputs": [
    {
     "ename": "VerifySignatureError",
     "evalue": "Signature verification failed. Signature mismatch. Abort.",
     "output_type": "error",
     "traceback": [
      "\u001b[0;31m---------------------------------------------------------------------------\u001b[0m",
      "\u001b[0;31mVerifySignatureError\u001b[0m                      Traceback (most recent call last)",
      "Cell \u001b[0;32mIn[28], line 9\u001b[0m\n\u001b[1;32m      7\u001b[0m G \u001b[38;5;241m=\u001b[39m ecnil\u001b[38;5;241m.\u001b[39mecdsa\u001b[38;5;241m.\u001b[39mG\n\u001b[1;32m      8\u001b[0m \u001b[38;5;66;03m# Verify\u001b[39;00m\n\u001b[0;32m----> 9\u001b[0m \u001b[43mverify_ecdsa_signature\u001b[49m\u001b[43m(\u001b[49m\u001b[43mother_message\u001b[49m\u001b[43m,\u001b[49m\u001b[43m \u001b[49m\u001b[43mr\u001b[49m\u001b[43m,\u001b[49m\u001b[43m \u001b[49m\u001b[43ms\u001b[49m\u001b[43m,\u001b[49m\u001b[43m \u001b[49m\u001b[43mY\u001b[49m\u001b[43m,\u001b[49m\u001b[43m \u001b[49m\u001b[43mq\u001b[49m\u001b[43m,\u001b[49m\u001b[43m \u001b[49m\u001b[43mG\u001b[49m\u001b[43m)\u001b[49m\n",
      "File \u001b[0;32m~/.pyenv/versions/3.10.10/envs/ecdsa/lib/python3.10/site-packages/tbecdsa/utils.py:190\u001b[0m, in \u001b[0;36mverify_ecdsa_signature\u001b[0;34m(message, r, s, Y, q, G)\u001b[0m\n\u001b[1;32m    188\u001b[0m v \u001b[38;5;241m=\u001b[39m \u001b[38;5;28mint\u001b[39m(V\u001b[38;5;241m.\u001b[39mx)\n\u001b[1;32m    189\u001b[0m \u001b[38;5;28;01mif\u001b[39;00m v \u001b[38;5;241m!=\u001b[39m r:\n\u001b[0;32m--> 190\u001b[0m     \u001b[38;5;28;01mraise\u001b[39;00m VerifySignatureError(\u001b[38;5;124m\"\u001b[39m\u001b[38;5;124mSignature mismatch. Abort.\u001b[39m\u001b[38;5;124m\"\u001b[39m)\n",
      "\u001b[0;31mVerifySignatureError\u001b[0m: Signature verification failed. Signature mismatch. Abort."
     ]
    }
   ],
   "source": [
    "other_message = \"So, are you ready for the Nillimania that is about to come?\"\n",
    "# Signature\n",
    "r, s, m = ecnil.retrieve_signature(client_id)\n",
    "# Public parameters (client's public key, ecdsa setup)\n",
    "Y = ecnil.clients[client_id - 1].get_open(str(client_id)+\"th_client_x_pk\")\n",
    "q = ecnil.q\n",
    "G = ecnil.ecdsa.G\n",
    "# Verify\n",
    "verify_ecdsa_signature(other_message, r, s, Y, q, G)"
   ]
  },
  {
   "cell_type": "markdown",
   "id": "8168b958-cb16-4d8a-a72e-0a734f41699d",
   "metadata": {},
   "source": [
    "### Debugging\n",
    "\n",
    "We can also take a closer look into the network, in case we want to explore more. For that, we have available the print() function, which shows the elements owned by each party."
   ]
  },
  {
   "cell_type": "code",
   "execution_count": 29,
   "id": "39569617-19f9-4427-9db9-0c56e4f772b8",
   "metadata": {},
   "outputs": [
    {
     "name": "stdout",
     "output_type": "stream",
     "text": [
      "Network(N=3, q=115792089210356248762697446949407573529996955224135760342422259061068512044369,\n",
      "  nodes=[\n",
      "    Node(id=1,\n",
      "      shares_db={\n",
      "        1th_client_x_enc_sh_exp: <phe.paillier.EncryptedNumber object at 0x7f98be40dae0>,\n",
      "        1th_client_m_lambda_exp_sh_exp: 18805008961205655853974338859205055368831044864697545644490465153571438711799,\n",
      "        1th_client_signature_sh_base: 91779520132695752504598595459510400413067395296456213887423493859572385422122,\n",
      "             },\n",
      "      public_keys={\n",
      "        0: <PaillierPublicKey 9819134c11>,\n",
      "             },\n",
      "      open_db={\n",
      "        1th_client_x_sk: 102469784307885151344434448408108083163496555990607993030079296257768877177482,\n",
      "        1th_client_x_pk: <Crypto.PublicKey.ECC.EccPoint object at 0x7f98be5551b0>,\n",
      "        1th_client_k_r: 31753913312844769919847511464927299861472164513026404815794344435752523133091,\n",
      "        1th_client_k_inv_sk: 99007062913722544630459242921033930766972195770224818402003123704021659134276,\n",
      "        1th_client_gap_particle_m: 3105980911072955919053240646545559247084242804202022487995108928842220696094,\n",
      "             }\n",
      "    )\n",
      "    Node(id=2,\n",
      "      shares_db={\n",
      "        1th_client_x_enc_sh_exp: <phe.paillier.EncryptedNumber object at 0x7f98be539750>,\n",
      "        1th_client_m_lambda_exp_sh_exp: 108606047286522208847578453720076266696012634649496781964928173924361506779525,\n",
      "        1th_client_signature_sh_base: 14097041990847478370465638810235809055897373211739469599149103775486801032157,\n",
      "             },\n",
      "      public_keys={\n",
      "        0: <PaillierPublicKey 9819134c11>,\n",
      "             },\n",
      "      open_db={\n",
      "        1th_client_x_sk: 102469784307885151344434448408108083163496555990607993030079296257768877177482,\n",
      "        1th_client_x_pk: <Crypto.PublicKey.ECC.EccPoint object at 0x7f98be384790>,\n",
      "        1th_client_k_r: 31753913312844769919847511464927299861472164513026404815794344435752523133091,\n",
      "        1th_client_k_inv_sk: 99007062913722544630459242921033930766972195770224818402003123704021659134276,\n",
      "        1th_client_gap_particle_m: 3105980911072955919053240646545559247084242804202022487995108928842220696094,\n",
      "             }\n",
      "    )\n",
      "    Node(id=3,\n",
      "      shares_db={\n",
      "        1th_client_x_enc_sh_exp: <phe.paillier.EncryptedNumber object at 0x7f98be40e740>,\n",
      "        1th_client_m_lambda_exp_sh_exp: 79008080502481446358856101831037787726509978488153796354999416201748522695236,\n",
      "        1th_client_signature_sh_base: 57889872377523500056536556248862903975761972917443548592733728878154084316939,\n",
      "             },\n",
      "      public_keys={\n",
      "        0: <PaillierPublicKey 9819134c11>,\n",
      "             },\n",
      "      open_db={\n",
      "        1th_client_x_sk: 102469784307885151344434448408108083163496555990607993030079296257768877177482,\n",
      "        1th_client_x_pk: <Crypto.PublicKey.ECC.EccPoint object at 0x7f98be53ae30>,\n",
      "        1th_client_k_r: 31753913312844769919847511464927299861472164513026404815794344435752523133091,\n",
      "        1th_client_k_inv_sk: 99007062913722544630459242921033930766972195770224818402003123704021659134276,\n",
      "        1th_client_gap_particle_m: 3105980911072955919053240646545559247084242804202022487995108928842220696094,\n",
      "             }\n",
      "    )\n",
      "  ]\n",
      ")\n",
      "  clients=[\n",
      "    Client(id=1,\n",
      "      shares_db={\n",
      "        1th_client_m_lambda_exp_sh_exp_node_1: 18805008961205655853974338859205055368831044864697545644490465153571438711799,\n",
      "        1th_client_m_lambda_exp_sh_exp_node_2: 108606047286522208847578453720076266696012634649496781964928173924361506779525,\n",
      "        1th_client_m_lambda_exp_sh_exp_node_3: 79008080502481446358856101831037787726509978488153796354999416201748522695236,\n",
      "        m_lambda_exp: 90627047539853062297711447460911536261356702778212363621995796218612956142192,\n",
      "        gap_lambda_exp: 91551342479687100116633344204445557531301978216457851867025998830604586230946,\n",
      "        1th_client_signature_sh_base_node_1: 91779520132695752504598595459510400413067395296456213887423493859572385422122,\n",
      "        1th_client_signature_sh_base_node_2: 14097041990847478370465638810235809055897373211739469599149103775486801032157,\n",
      "        1th_client_signature_sh_base_node_3: 57889872377523500056536556248862903975761972917443548592733728878154084316939,\n",
      "        sig_gap: 47974345290710482168903343569201539914729786201503471736884067452144758726849,\n",
      "             },\n",
      "      public_keys={\n",
      "        0: <PaillierPublicKey 9819134c11>,\n",
      "             },\n",
      "      private_keys=<PaillierPrivateKey for <PaillierPublicKey 9819134c11>>,\n",
      "      open_db={\n",
      "        1th_client_x_pk: <Crypto.PublicKey.ECC.EccPoint object at 0x7f98be5551b0>,\n",
      "        1th_client_k_r: 31753913312844769919847511464927299861472164513026404815794344435752523133091,\n",
      "        1th_client_s: 45641033648832070136841209516832737108002048145377673994477584593492361851821,\n",
      "        1th_client_message: This is one of many releases we are going to have in the next few months.,\n",
      "             }\n",
      "    )\n",
      "  ]\n",
      ")\n"
     ]
    }
   ],
   "source": [
    "ecnil.print()"
   ]
  },
  {
   "cell_type": "markdown",
   "id": "cc9c6ed7-040e-4f88-91c3-32ea4a26a107",
   "metadata": {},
   "source": [
    "In debug mode, we have access to all elements:"
   ]
  },
  {
   "cell_type": "code",
   "execution_count": 30,
   "id": "29dcc5c5-2263-414f-a69e-07d492b62695",
   "metadata": {},
   "outputs": [],
   "source": [
    "# DKG protocol for ECDSA\n",
    "ecnil_debug.distributed_key_generation_protocol(client_id)"
   ]
  },
  {
   "cell_type": "code",
   "execution_count": 31,
   "id": "c87dc2a5-ac98-4160-81cf-fcc64df10b49",
   "metadata": {},
   "outputs": [],
   "source": [
    "# Preprocessing phase (message independent)\n",
    "ecnil_debug.ts_prep_protocol(client_id)"
   ]
  },
  {
   "cell_type": "code",
   "execution_count": 32,
   "id": "1277a72f-8618-4e53-809f-1ee1f108df19",
   "metadata": {},
   "outputs": [],
   "source": [
    "message = \"Stay tunned. Join the Telegram chat. Join the Discord channel. Be happy.\""
   ]
  },
  {
   "cell_type": "code",
   "execution_count": 33,
   "id": "9c52fc18-1be2-424a-af1e-9cb8a2548e7a",
   "metadata": {},
   "outputs": [],
   "source": [
    "# Online phase (message dependent)\n",
    "ecnil_debug.ts_online_protocol(message, client_id)"
   ]
  },
  {
   "cell_type": "code",
   "execution_count": 34,
   "id": "b6c23905-4bcf-47ef-b707-431900d818de",
   "metadata": {},
   "outputs": [
    {
     "name": "stdout",
     "output_type": "stream",
     "text": [
      "Network(N=3, q=115792089210356248762697446949407573529996955224135760342422259061068512044369,\n",
      "  nodes=[\n",
      "    Node(id=1,\n",
      "      shares_db={\n",
      "        randomsh_node_1: 26769440234656992175755532478958052042591858765515471507714033651589557161275,\n",
      "        randomsh_node_2: 101114896275779667892858842630820945984339520389178341454003745582001833565950,\n",
      "        randomsh_node_3: 65295368212334320364822732577293115580823338745394808319313401203985502047244,\n",
      "        random_minus_1th_client_x_sh_exp: 21285557804254400517499316140863911282953027731008870766837031342101421986995,\n",
      "        1th_client_x_enc_sh_exp: <phe.paillier.EncryptedNumber object at 0x7f98be5b40d0>,\n",
      "        1th_client_k_lambda_sh_exp: 64808101058331855648098966258074768495522068627855889258210392032045767117789,\n",
      "        1th_client_k_lambda_sh_base: 45914160945743234463835765639491558729542954125290225663180923306814251949178,\n",
      "        1th_client_lambda_1_lambda_sh_exp: 110261921268401980199777795756244310703391358903969707276878833519586775656461,\n",
      "        1th_client_lambda_1_lambda_sh_base: 108264603285536304734821164728289517992500267790392063330713261312757662392280,\n",
      "        1th_client_lambda_2_lambda_sh_exp: 28987819239560065081237892375136555651251977493306094401896942309427202983421,\n",
      "        1th_client_lambda_2_lambda_sh_base: 393993427082182993888611869452796442059787351768810467093084945818453065664,\n",
      "        1th_client_k_inv_lambda_sh_exp: 50983988152024393114598480691332805034474886596279871084211867029022744926579,\n",
      "        1th_client_m_lambda_exp_sh_exp: 59277933116377587085179315064911505668916472307689836192666966490564030729882,\n",
      "        1th_client_k_inv_minus_lambda_2_sh_exp: 21996168912464328033360588316196249383222909102973776682314924719595541943158,\n",
      "        1th_client_signature_sh_base: 58525477711371260240334972186282972087472544951891672017409127407100153430357,\n",
      "             },\n",
      "      public_keys={\n",
      "        0: <PaillierPublicKey 175e4cd4bd>,\n",
      "             },\n",
      "      open_db={\n",
      "        pow_share_node_1: 72378868255854391565760175650872293318597189536572400527922097502433058411878,\n",
      "        pow_share_node_2: 45872515933530664101602257524600538219508489031264254994253819321752776775816,\n",
      "        pow_share_node_3: 29014508172579319062670438431715762317330725523345422883913336857780815595948,\n",
      "        1th_client_x_sk: 64217921291331773899722626677277272882064119440032325106726282285652751432437,\n",
      "        ec_pow_share_node_1: <Crypto.PublicKey.ECC.EccPoint object at 0x7f98be7296f0>,\n",
      "        ec_pow_share_node_2: <Crypto.PublicKey.ECC.EccPoint object at 0x7f98be56ab90>,\n",
      "        ec_pow_share_node_3: <Crypto.PublicKey.ECC.EccPoint object at 0x7f98be5688b0>,\n",
      "        1th_client_x_pre_pk: <Crypto.PublicKey.ECC.EccPoint object at 0x7f98be5b4460>,\n",
      "        1th_client_x_pk: <Crypto.PublicKey.ECC.EccPoint object at 0x7f98be7299c0>,\n",
      "        1th_client_k_sk: 106690866310991489943153000702872351126038800689406262426052359671490366155073,\n",
      "        1th_client_k_r: 63311173584842841245925798104795648111620391687666830997321134344588083074523,\n",
      "        1th_client_k_inv_sk: 107906334498891160288150417749665075810783183991392731713096401950578281812997,\n",
      "        1th_client_gap_particle_m: 69322805609917834763653403789850653945489715737259872208282176384775167087218,\n",
      "             }\n",
      "    )\n",
      "    Node(id=2,\n",
      "      shares_db={\n",
      "        randomsh_node_1: 72655457485939389274262646238908281476957104058738201607336845534626284859858,\n",
      "        randomsh_node_2: 55421664265852990662402318574735773655011024051024860751083583489548130800173,\n",
      "        randomsh_node_3: 44198230652869082014345749838424845600089020503892065861360713945075170694589,\n",
      "        random_minus_1th_client_x_sh_exp: 17978783689643860262869736622490840897246670992032037432728437473306693866471,\n",
      "        1th_client_x_enc_sh_exp: <phe.paillier.EncryptedNumber object at 0x7f98be5b44f0>,\n",
      "        1th_client_k_lambda_sh_exp: 109046234982584279344320108345538172606301505649245143407617166312984970462065,\n",
      "        1th_client_k_lambda_sh_base: 16041270280715525560014858200313600029015059473186017401036961446635721672877,\n",
      "        1th_client_lambda_1_lambda_sh_exp: 14637587812657205465089060314861794398045935656251157915659263317920692221790,\n",
      "        1th_client_lambda_1_lambda_sh_base: 26927290265932762621234385455146593833467909324594318258475853624783121420370,\n",
      "        1th_client_lambda_2_lambda_sh_exp: 111387604221397619557478295762098362007647046471814770560600604854995628920443,\n",
      "        1th_client_lambda_2_lambda_sh_base: 15648644956979592409131495285480833237606061740472442534334164023606449679144,\n",
      "        1th_client_k_inv_lambda_sh_exp: 6745854227771969418377338603869400923695449574890616934805092748083541582303,\n",
      "        1th_client_m_lambda_exp_sh_exp: 7891733584885236046711721710992393474350486081360540980854170569837150639487,\n",
      "        1th_client_k_inv_minus_lambda_2_sh_exp: 11150339216730598623596489791178612446045358327211606716626746954156424706228,\n",
      "        1th_client_signature_sh_base: 99130481358755645570913642446332077523645332139473716675869609686163579526448,\n",
      "             },\n",
      "      public_keys={\n",
      "        0: <PaillierPublicKey 175e4cd4bd>,\n",
      "             },\n",
      "      open_db={\n",
      "        pow_share_node_1: 72378868255854391565760175650872293318597189536572400527922097502433058411878,\n",
      "        pow_share_node_2: 45872515933530664101602257524600538219508489031264254994253819321752776775816,\n",
      "        pow_share_node_3: 29014508172579319062670438431715762317330725523345422883913336857780815595948,\n",
      "        1th_client_x_sk: 64217921291331773899722626677277272882064119440032325106726282285652751432437,\n",
      "        ec_pow_share_node_1: <Crypto.PublicKey.ECC.EccPoint object at 0x7f98be7296f0>,\n",
      "        ec_pow_share_node_2: <Crypto.PublicKey.ECC.EccPoint object at 0x7f98be56ab90>,\n",
      "        ec_pow_share_node_3: <Crypto.PublicKey.ECC.EccPoint object at 0x7f98be5688b0>,\n",
      "        1th_client_x_pre_pk: <Crypto.PublicKey.ECC.EccPoint object at 0x7f98be5b4610>,\n",
      "        1th_client_x_pk: <Crypto.PublicKey.ECC.EccPoint object at 0x7f98be72a860>,\n",
      "        1th_client_k_sk: 106690866310991489943153000702872351126038800689406262426052359671490366155073,\n",
      "        1th_client_k_r: 63311173584842841245925798104795648111620391687666830997321134344588083074523,\n",
      "        1th_client_k_inv_sk: 107906334498891160288150417749665075810783183991392731713096401950578281812997,\n",
      "        1th_client_gap_particle_m: 69322805609917834763653403789850653945489715737259872208282176384775167087218,\n",
      "             }\n",
      "    )\n",
      "    Node(id=3,\n",
      "      shares_db={\n",
      "        randomsh_node_1: 80467104596292784995039830657604396254463789914559555668663681347644787618471,\n",
      "        randomsh_node_2: 21701464042755607759296886007989738374567587485349163154590663265294001864960,\n",
      "        randomsh_node_3: 100601572627545979661556637006394789708817365091180024552239177876511754079724,\n",
      "        random_minus_1th_client_x_sh_exp: 16317407426751689361152032901068957344284849244363366938662721251946077534328,\n",
      "        1th_client_x_enc_sh_exp: <phe.paillier.EncryptedNumber object at 0x7f98be385660>,\n",
      "        1th_client_k_lambda_sh_exp: 67687894616425587027423848566794623807840017597405412684236998307161151652932,\n",
      "        1th_client_k_lambda_sh_base: 27833039705320897040551638431985464923603433345228226403929657914049433624966,\n",
      "        1th_client_lambda_1_lambda_sh_exp: 17981540287082509631932088256043972474997713697789597119888467700607069813447,\n",
      "        1th_client_lambda_1_lambda_sh_base: 2949600072862649594898126130838370818644756422341793042150301207517336252843,\n",
      "        1th_client_lambda_2_lambda_sh_exp: 89970861924037096172137585573787705605377182569231545460797204963324757607552,\n",
      "        1th_client_lambda_2_lambda_sh_base: 114532674433452481534518996941820426545049999443331494478889058485967324359656,\n",
      "        1th_client_k_inv_lambda_sh_exp: 48104194593930661735273598382612949722156937626730347658185260753907360391436,\n",
      "        1th_client_m_lambda_exp_sh_exp: 85669434903508096659355936822838596282837731295195009804125466007768221466379,\n",
      "        1th_client_k_inv_minus_lambda_2_sh_exp: 73925421880249814325833459758232817646776710281634562539810314851651114828252,\n",
      "        1th_client_signature_sh_base: 26294689748181801575956195524248545264537826091618411177415420384036597551421,\n",
      "             },\n",
      "      public_keys={\n",
      "        0: <PaillierPublicKey 175e4cd4bd>,\n",
      "             },\n",
      "      open_db={\n",
      "        pow_share_node_1: 72378868255854391565760175650872293318597189536572400527922097502433058411878,\n",
      "        pow_share_node_2: 45872515933530664101602257524600538219508489031264254994253819321752776775816,\n",
      "        pow_share_node_3: 29014508172579319062670438431715762317330725523345422883913336857780815595948,\n",
      "        1th_client_x_sk: 64217921291331773899722626677277272882064119440032325106726282285652751432437,\n",
      "        ec_pow_share_node_1: <Crypto.PublicKey.ECC.EccPoint object at 0x7f98be7296f0>,\n",
      "        ec_pow_share_node_2: <Crypto.PublicKey.ECC.EccPoint object at 0x7f98be56ab90>,\n",
      "        ec_pow_share_node_3: <Crypto.PublicKey.ECC.EccPoint object at 0x7f98be5688b0>,\n",
      "        1th_client_x_pre_pk: <Crypto.PublicKey.ECC.EccPoint object at 0x7f98be5b4250>,\n",
      "        1th_client_x_pk: <Crypto.PublicKey.ECC.EccPoint object at 0x7f98be5b4160>,\n",
      "        1th_client_k_sk: 106690866310991489943153000702872351126038800689406262426052359671490366155073,\n",
      "        1th_client_k_r: 63311173584842841245925798104795648111620391687666830997321134344588083074523,\n",
      "        1th_client_k_inv_sk: 107906334498891160288150417749665075810783183991392731713096401950578281812997,\n",
      "        1th_client_gap_particle_m: 69322805609917834763653403789850653945489715737259872208282176384775167087218,\n",
      "             }\n",
      "    )\n",
      "  ]\n",
      ")\n",
      "  clients=[\n",
      "    Client(id=1,\n",
      "      shares_db={\n",
      "        1th_client_m_lambda_exp_sh_exp_node_1: 59277933116377587085179315064911505668916472307689836192666966490564030729882,\n",
      "        1th_client_m_lambda_exp_sh_exp_node_2: 7891733584885236046711721710992393474350486081360540980854170569837150639487,\n",
      "        1th_client_m_lambda_exp_sh_exp_node_3: 85669434903508096659355936822838596282837731295195009804125466007768221466379,\n",
      "        m_lambda_exp: 37047012394414671028549526649334921896107734460109626635224344007100890791380,\n",
      "        1th_client_gap_lambda_enc_sh_exp_node_1: <phe.paillier.EncryptedNumber object at 0x7f98be5b4220>,\n",
      "        1th_client_gap_lambda_enc_sh_exp_node_2: <phe.paillier.EncryptedNumber object at 0x7f98be56b280>,\n",
      "        1th_client_gap_lambda_enc_sh_exp_node_3: <phe.paillier.EncryptedNumber object at 0x7f98be5b44c0>,\n",
      "        gap_lambda_exp: 14593568459178450201196623351708437273742502624114583187528081246402839799107,\n",
      "        1th_client_signature_sh_base_node_1: 58525477711371260240334972186282972087472544951891672017409127407100153430357,\n",
      "        1th_client_signature_sh_base_node_2: 99130481358755645570913642446332077523645332139473716675869609686163579526448,\n",
      "        1th_client_signature_sh_base_node_3: 26294689748181801575956195524248545264537826091618411177415420384036597551421,\n",
      "        sig_gap: 68158559607952458624507363207456021345658747958848039528271898416231818463857,\n",
      "             },\n",
      "      public_keys={\n",
      "        0: <PaillierPublicKey 175e4cd4bd>,\n",
      "             },\n",
      "      private_keys=<PaillierPrivateKey for <PaillierPublicKey 175e4cd4bd>>,\n",
      "      open_db={\n",
      "        1th_client_x_pk: <Crypto.PublicKey.ECC.EccPoint object at 0x7f98be7299c0>,\n",
      "        1th_client_k_r: 63311173584842841245925798104795648111620391687666830997321134344588083074523,\n",
      "        1th_client_s: 63833539223658105135053461039650923566058911866233596880424355717202875082925,\n",
      "        1th_client_message: Stay tunned. Join the Telegram chat. Join the Discord channel. Be happy.,\n",
      "             }\n",
      "    )\n",
      "  ]\n",
      ")\n"
     ]
    }
   ],
   "source": [
    "ecnil_debug.print()"
   ]
  },
  {
   "cell_type": "code",
   "execution_count": null,
   "id": "5b0a2d28-64fb-4f04-b339-a733b7996138",
   "metadata": {},
   "outputs": [],
   "source": []
  }
 ],
 "metadata": {
  "kernelspec": {
   "display_name": "Python 3 (ipykernel)",
   "language": "python",
   "name": "python3"
  },
  "language_info": {
   "codemirror_mode": {
    "name": "ipython",
    "version": 3
   },
   "file_extension": ".py",
   "mimetype": "text/x-python",
   "name": "python",
   "nbconvert_exporter": "python",
   "pygments_lexer": "ipython3",
   "version": "3.10.10"
  }
 },
 "nbformat": 4,
 "nbformat_minor": 5
}
